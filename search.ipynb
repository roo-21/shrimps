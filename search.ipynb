{
  "nbformat": 4,
  "nbformat_minor": 0,
  "metadata": {
    "colab": {
      "provenance": []
    },
    "kernelspec": {
      "name": "python3",
      "display_name": "Python 3"
    },
    "language_info": {
      "name": "python"
    }
  },
  "cells": [
    {
      "cell_type": "code",
      "execution_count": null,
      "metadata": {
        "colab": {
          "base_uri": "https://localhost:8080/"
        },
        "id": "dMsF6pJ2QdpD",
        "outputId": "c8f7adac-275f-46be-a59c-44eb0b28aa92"
      },
      "outputs": [
        {
          "output_type": "stream",
          "name": "stdout",
          "text": [
            "Mounted at /content/drive\n"
          ]
        }
      ],
      "source": [
        "from google.colab import drive\n",
        "drive.mount('/content/drive')"
      ]
    },
    {
      "cell_type": "code",
      "source": [
        "import pickle"
      ],
      "metadata": {
        "id": "r-6cHrjAR56l"
      },
      "execution_count": null,
      "outputs": []
    },
    {
      "cell_type": "code",
      "source": [
        "with open('/content/drive/MyDrive/s3 mini p/diseases.pkl','rb') as file:\n",
        "    diseases=pickle.load(file)"
      ],
      "metadata": {
        "id": "nnTGNC3ITac9"
      },
      "execution_count": null,
      "outputs": []
    },
    {
      "cell_type": "code",
      "source": [
        "len(diseases)"
      ],
      "metadata": {
        "colab": {
          "base_uri": "https://localhost:8080/"
        },
        "id": "ySQStwTRUDKw",
        "outputId": "805338e9-bd48-4f42-f48e-8c82648515da"
      },
      "execution_count": null,
      "outputs": [
        {
          "output_type": "execute_result",
          "data": {
            "text/plain": [
              "23"
            ]
          },
          "metadata": {},
          "execution_count": 4
        }
      ]
    },
    {
      "cell_type": "code",
      "source": [
        "with open('/content/drive/MyDrive/s3 mini p/rules.pkl','rb') as file:\n",
        "    rules=pickle.load(file)"
      ],
      "metadata": {
        "id": "2ziom_tdUFOy"
      },
      "execution_count": null,
      "outputs": []
    },
    {
      "cell_type": "code",
      "source": [
        "len(rules)"
      ],
      "metadata": {
        "colab": {
          "base_uri": "https://localhost:8080/"
        },
        "id": "Iu7H8ELmYfX6",
        "outputId": "98b39399-87d2-4426-b138-1291710423d0"
      },
      "execution_count": null,
      "outputs": [
        {
          "output_type": "execute_result",
          "data": {
            "text/plain": [
              "1546"
            ]
          },
          "metadata": {},
          "execution_count": 6
        }
      ]
    },
    {
      "cell_type": "code",
      "source": [
        "from itertools import chain, combinations"
      ],
      "metadata": {
        "id": "Anxb5jIPYgNR"
      },
      "execution_count": null,
      "outputs": []
    },
    {
      "cell_type": "code",
      "source": [
        "def powerset(s):\n",
        "    return [frozenset(subset) for subset in list(chain.from_iterable(combinations(s, r) for r in range(1, len(s) + 1)))]"
      ],
      "metadata": {
        "id": "IW7-vV8QZzUy"
      },
      "execution_count": null,
      "outputs": []
    },
    {
      "cell_type": "code",
      "source": [
        "def search(symptoms):\n",
        "\tdiseases=set()\n",
        "\n",
        "\tfor key in rules.keys():\n",
        "\t\tif symptoms.issubset(key):\n",
        "\t\t\tdiseases.update(rules[key])\n",
        "\n",
        "\tif not diseases:\n",
        "\t\tsymptomset_list=list(powerset(symptoms))\n",
        "\t\tfor each in symptomset_list:\n",
        "\t\t\tif each in rules.keys():\n",
        "\t\t\t\tdiseases.update(rules[each])\n",
        "\treturn diseases"
      ],
      "metadata": {
        "id": "NRzo8AtSZ-Bf"
      },
      "execution_count": null,
      "outputs": []
    },
    {
      "cell_type": "code",
      "source": [
        "symptoms=frozenset({\"Antennae Cut\", \"Slow swimming\",\"Abnormal growth\"})\n",
        "print(list(powerset(symptoms)))\n",
        "print(\"after searching:\\n\",search(symptoms))"
      ],
      "metadata": {
        "id": "xmd7zD5DZ_fy",
        "colab": {
          "base_uri": "https://localhost:8080/"
        },
        "outputId": "52810e77-3b59-4818-dee5-897f4e688547"
      },
      "execution_count": null,
      "outputs": [
        {
          "output_type": "stream",
          "name": "stdout",
          "text": [
            "[frozenset({'Abnormal growth'}), frozenset({'Antennae Cut'}), frozenset({'Slow swimming'}), frozenset({'Abnormal growth', 'Antennae Cut'}), frozenset({'Abnormal growth', 'Slow swimming'}), frozenset({'Antennae Cut', 'Slow swimming'}), frozenset({'Abnormal growth', 'Antennae Cut', 'Slow swimming'})]\n",
            "after searching:\n",
            " {'White Spot Syndrome (WSSV)', 'Monodon Slow Growth Syndrome (MSGS)'}\n"
          ]
        }
      ]
    },
    {
      "cell_type": "code",
      "source": [],
      "metadata": {
        "id": "UY5EdRYEjYZg"
      },
      "execution_count": null,
      "outputs": []
    }
  ]
}